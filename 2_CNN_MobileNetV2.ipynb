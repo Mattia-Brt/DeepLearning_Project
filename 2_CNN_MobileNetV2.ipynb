{
  "cells": [
    {
      "cell_type": "code",
      "execution_count": 1,
      "metadata": {
        "id": "vr0g5V1D7tQx"
      },
      "outputs": [],
      "source": [
        "import tensorflow as tf\n",
        "from tensorflow import keras\n",
        "from keras import layers\n",
        "from keras import Sequential\n",
        "from keras import preprocessing\n",
        "from keras.layers import Normalization\n",
        "from matplotlib import pyplot as plt\n",
        "import zipfile\n",
        "from shutil import copyfile\n",
        "from time import time\n",
        "import numpy as np\n",
        "import random as python_random\n",
        "import os\n",
        "from pathlib import Path\n",
        "import PIL\n",
        "from PIL import Image\n",
        "import statistics\n",
        "from sklearn.metrics import classification_report, confusion_matrix, accuracy_score"
      ]
    },
    {
      "cell_type": "code",
      "execution_count": 2,
      "metadata": {
        "id": "2Ze-ggEK7t2w"
      },
      "outputs": [],
      "source": [
        "# seed initialization to get same results\n",
        "np.random.seed(0)\n",
        "python_random.seed(0)\n",
        "tf.random.set_seed(0)"
      ]
    },
    {
      "cell_type": "markdown",
      "source": [
        "# Upload"
      ],
      "metadata": {
        "id": "gkX3jY7JaUba"
      }
    },
    {
      "cell_type": "code",
      "execution_count": 3,
      "metadata": {
        "colab": {
          "base_uri": "https://localhost:8080/"
        },
        "id": "qA-DGWv27t-W",
        "outputId": "a11b9042-1e8e-46a9-b904-613a2ba61d80"
      },
      "outputs": [
        {
          "output_type": "stream",
          "name": "stdout",
          "text": [
            "Mounted at /content/gdrive\n"
          ]
        }
      ],
      "source": [
        "# Link Google Drive account\n",
        "from google.colab import drive\n",
        "drive.mount('/content/gdrive')"
      ]
    },
    {
      "cell_type": "code",
      "execution_count": 4,
      "metadata": {
        "colab": {
          "base_uri": "https://localhost:8080/"
        },
        "id": "sbA-Ju1o7uEI",
        "outputId": "4545cd7a-347a-4260-b5c9-fb4015110f18"
      },
      "outputs": [
        {
          "output_type": "stream",
          "name": "stdout",
          "text": [
            "File transfer completed in 5.416 seconds\n"
          ]
        }
      ],
      "source": [
        "# Import file in the virtual machine\n",
        "t0 = time()\n",
        "# Transfer zip dataset to the current virtual machine\n",
        "copyfile('/content/gdrive/MyDrive/Project_DeepLearning/flower_photos_divided.zip', 'flower_photos_divided.zip') # fonte e dove copiarlo\n",
        "# Extract files \n",
        "zip = zipfile.ZipFile('flower_photos_divided.zip') #scompatta cartella zippata\n",
        "zip.extractall() #invochiamo zip\n",
        "zip.close() # necessario per accellerare le operazioni\n",
        "print(\"File transfer completed in %0.3f seconds\" % (time() - t0))\n",
        "\n",
        "base_path = Path('flower_photos_divided/')"
      ]
    },
    {
      "cell_type": "markdown",
      "source": [
        "# Data\n",
        "\n"
      ],
      "metadata": {
        "id": "EdI2ZY8FaYOL"
      }
    },
    {
      "cell_type": "markdown",
      "source": [
        "## Train and Validation "
      ],
      "metadata": {
        "id": "NlAxy0IOatEJ"
      }
    },
    {
      "cell_type": "code",
      "source": [
        "# train dataset\n",
        "train_dataset = keras.preprocessing.image_dataset_from_directory(\"flower_photos_divided/train\", #assegniamo a variabile train dataset\n",
        "                                                            image_size=(224,224), #dimesione standard   # ridimensionate alla stessa dimensione (stessa risoluzione). Per poter sfruttare il batch processing, le immagini vengono impilate in un unico tensore poiche alcuni livelli neurali funzionano in base ad una specifica cardinalità\n",
        "                                                            batch_size=128,   # 32 immagini di input alla volta. più immagini, più l'apprendimento è stabile         \n",
        "                                                            label_mode='categorical',\n",
        "                                                            #subset='training',\n",
        "                                                            #validation_split = 0.2,\n",
        "                                                            shuffle=True,# Data shuffling (randomization of the instances order) is fundamental to ensure that each minibatch is representative of the whole set of classes\n",
        "                                                            seed=1)\n",
        "# 800 file (80%) verrano utilizzati per l'addestramento, mentre 200 per il validation"
      ],
      "metadata": {
        "colab": {
          "base_uri": "https://localhost:8080/"
        },
        "id": "V_0HawAaIP5u",
        "outputId": "9a22225c-0c8a-4213-b65f-32e6ec40de91"
      },
      "execution_count": 5,
      "outputs": [
        {
          "output_type": "stream",
          "name": "stdout",
          "text": [
            "Found 2935 files belonging to 5 classes.\n"
          ]
        }
      ]
    },
    {
      "cell_type": "code",
      "source": [
        "# validation dataset\n",
        "val_dataset = keras.preprocessing.image_dataset_from_directory(\"flower_photos_divided/test\", #assegniamo a variabile train dataset\n",
        "                                                            image_size=(224,224), #dimesione standard   # ridimensionate alla stessa dimensione (stessa risoluzione). Per poter sfruttare il batch processing, le immagini vengono impilate in un unico tensore poiche alcuni livelli neurali funzionano in base ad una specifica cardinalità\n",
        "                                                            batch_size=128,   # 32 immagini di input alla volta. più immagini, più l'apprendimento è stabile         \n",
        "                                                            label_mode='categorical',\n",
        "                                                            #subset='validation',\n",
        "                                                            #validation_split = 0.2,\n",
        "                                                            shuffle=False,\n",
        "                                                            seed=1)\n",
        "# 800 file (80%) verrano utilizzati per l'addestramento, mentre 200 per il validation"
      ],
      "metadata": {
        "colab": {
          "base_uri": "https://localhost:8080/"
        },
        "id": "-3iJmRlpIWh8",
        "outputId": "7e7ce676-611a-4b2e-8896-d5e449b78f13"
      },
      "execution_count": 6,
      "outputs": [
        {
          "output_type": "stream",
          "name": "stdout",
          "text": [
            "Found 735 files belonging to 5 classes.\n"
          ]
        }
      ]
    },
    {
      "cell_type": "markdown",
      "metadata": {
        "id": "5QkapQncLooj"
      },
      "source": [
        "## Data Augmentation"
      ]
    },
    {
      "cell_type": "code",
      "execution_count": 7,
      "metadata": {
        "id": "SeuSmC77LoFB"
      },
      "outputs": [],
      "source": [
        "data_augmentation = keras.Sequential(\n",
        "    [\n",
        "     layers.RandomFlip(\"horizontal_and_vertical\"),\n",
        "     layers.RandomRotation(0.4),\n",
        "     layers.RandomBrightness(factor= 0.4), # allowing the generator to randomly darken the image of 0.2 or 20%\n",
        "     layers.RandomZoom(0.2),\n",
        "     layers.RandomCrop(180,260),\n",
        "     layers.Resizing(224,224),\n",
        "     layers.Normalization()\n",
        "    ]\n",
        ")"
      ]
    },
    {
      "cell_type": "markdown",
      "metadata": {
        "id": "rDrtNCzsHQdv"
      },
      "source": [
        "# Model - Pretrained - BaseNet"
      ]
    },
    {
      "cell_type": "code",
      "source": [
        "num_classes = 5"
      ],
      "metadata": {
        "id": "E88Kg_pyOihi"
      },
      "execution_count": 8,
      "outputs": []
    },
    {
      "cell_type": "code",
      "source": [
        "# we set an early stopping\n",
        "callback = keras.callbacks.EarlyStopping(monitor='val_loss', patience=7)\n",
        "\n",
        "#we save only the best model\n",
        "checkpoint_filepath = 'gdrive/MyDrive/Project_DeepLearning/2_CNN_BaseNet'\n",
        "mcp_save = tf.keras.callbacks.ModelCheckpoint(filepath=checkpoint_filepath, save_best_only=True, monitor='val_loss', mode='min')"
      ],
      "metadata": {
        "id": "wsobe6NcG6wK"
      },
      "execution_count": 17,
      "outputs": []
    },
    {
      "cell_type": "code",
      "source": [
        "# Download Base Model weights\n",
        "base_net = keras.applications.MobileNetV2(input_shape=(224,224,3), weights='imagenet', include_top=False, pooling='avg')"
      ],
      "metadata": {
        "id": "gsUNULCGLeqJ",
        "colab": {
          "base_uri": "https://localhost:8080/"
        },
        "outputId": "8882e3fa-e802-42ef-e314-019be1737c89"
      },
      "execution_count": 11,
      "outputs": [
        {
          "output_type": "stream",
          "name": "stdout",
          "text": [
            "Downloading data from https://storage.googleapis.com/tensorflow/keras-applications/mobilenet_v2/mobilenet_v2_weights_tf_dim_ordering_tf_kernels_1.0_224_no_top.h5\n",
            "9406464/9406464 [==============================] - 1s 0us/step\n"
          ]
        }
      ]
    },
    {
      "cell_type": "code",
      "source": [
        "# Freezing the base model weights\n",
        "base_net.trainable = False"
      ],
      "metadata": {
        "id": "zyB4pF9mLiTx"
      },
      "execution_count": 12,
      "outputs": []
    },
    {
      "cell_type": "code",
      "source": [
        "# Explicit input layer\n",
        "inputs = keras.Input((224,224,3))\n",
        "#x = inputs\n",
        "x = data_augmentation(inputs)\n",
        "\n",
        "# Output of the base model\n",
        "x = base_net(x)\n",
        "\n",
        "# New intermediate fully-connected layer + ReLU\n",
        "x = keras.layers.Dense(1024, activation='relu', kernel_regularizer=tf.keras.regularizers.l2(0.001))(x)\n",
        "\n",
        "outputs = keras.layers.Dense(num_classes, activation=\"softmax\")(x)\n",
        "\n",
        "base_net = keras.Model(inputs, outputs)"
      ],
      "metadata": {
        "id": "AZGtvhJrFqmg"
      },
      "execution_count": 14,
      "outputs": []
    },
    {
      "cell_type": "code",
      "source": [
        "print(base_net.summary())"
      ],
      "metadata": {
        "colab": {
          "base_uri": "https://localhost:8080/"
        },
        "id": "BxN2q1IuFwYb",
        "outputId": "55a6d73c-12c1-470a-edaa-fd8674e36b77"
      },
      "execution_count": 15,
      "outputs": [
        {
          "output_type": "stream",
          "name": "stdout",
          "text": [
            "Model: \"model\"\n",
            "_________________________________________________________________\n",
            " Layer (type)                Output Shape              Param #   \n",
            "=================================================================\n",
            " input_3 (InputLayer)        [(None, 224, 224, 3)]     0         \n",
            "                                                                 \n",
            " sequential (Sequential)     (None, 224, 224, 3)       7         \n",
            "                                                                 \n",
            " mobilenetv2_1.00_224 (Funct  (None, 1280)             2257984   \n",
            " ional)                                                          \n",
            "                                                                 \n",
            " dense_1 (Dense)             (None, 1024)              1311744   \n",
            "                                                                 \n",
            " dense_2 (Dense)             (None, 5)                 5125      \n",
            "                                                                 \n",
            "=================================================================\n",
            "Total params: 3,574,860\n",
            "Trainable params: 1,316,869\n",
            "Non-trainable params: 2,257,991\n",
            "_________________________________________________________________\n",
            "None\n"
          ]
        }
      ]
    },
    {
      "cell_type": "markdown",
      "source": [
        "## Compile & Training - Base.Net Model"
      ],
      "metadata": {
        "id": "VHFq60ZcGdK_"
      }
    },
    {
      "cell_type": "code",
      "source": [
        "# Compile the model for training\n",
        "base_net.compile(loss=keras.losses.categorical_crossentropy,\n",
        "            optimizer=keras.optimizers.RMSprop(learning_rate=0.001),\n",
        "            metrics=['accuracy'])"
      ],
      "metadata": {
        "id": "j7c2fSbgGc2E"
      },
      "execution_count": 16,
      "outputs": []
    },
    {
      "cell_type": "code",
      "source": [
        "# Model training\n",
        "history = base_net.fit(train_dataset,\n",
        "          epochs=80,\n",
        "          validation_data=val_dataset,\n",
        "          callbacks=[callback, mcp_save]);"
      ],
      "metadata": {
        "colab": {
          "base_uri": "https://localhost:8080/"
        },
        "id": "mNDX0xEXGrkX",
        "outputId": "30e86dfa-deea-450d-a176-9e6aa3c39ccf"
      },
      "execution_count": 18,
      "outputs": [
        {
          "output_type": "stream",
          "name": "stdout",
          "text": [
            "Epoch 1/80\n",
            "23/23 [==============================] - ETA: 0s - loss: 4.1373 - accuracy: 0.3032"
          ]
        },
        {
          "output_type": "stream",
          "name": "stderr",
          "text": [
            "WARNING:absl:Found untraced functions such as _jit_compiled_convolution_op, _jit_compiled_convolution_op, _jit_compiled_convolution_op, _jit_compiled_convolution_op, _jit_compiled_convolution_op while saving (showing 5 of 52). These functions will not be directly callable after loading.\n"
          ]
        },
        {
          "output_type": "stream",
          "name": "stdout",
          "text": [
            "\b\b\b\b\b\b\b\b\b\b\b\b\b\b\b\b\b\b\b\b\b\b\b\b\b\b\b\b\b\b\b\b\b\b\b\b\b\b\b\b\b\b\b\b\b\b\b\b\b\b\b\b\b\b\b\b\b\b\b\b\b\b\b\b\b\b\b\b\b\b\b\b\b\b\b\b\b\b\b\b\b\b\r23/23 [==============================] - 50s 2s/step - loss: 4.1373 - accuracy: 0.3032 - val_loss: 2.5936 - val_accuracy: 0.3007\n",
            "Epoch 2/80\n",
            "23/23 [==============================] - ETA: 0s - loss: 2.4493 - accuracy: 0.3857"
          ]
        },
        {
          "output_type": "stream",
          "name": "stderr",
          "text": [
            "WARNING:absl:Found untraced functions such as _jit_compiled_convolution_op, _jit_compiled_convolution_op, _jit_compiled_convolution_op, _jit_compiled_convolution_op, _jit_compiled_convolution_op while saving (showing 5 of 52). These functions will not be directly callable after loading.\n"
          ]
        },
        {
          "output_type": "stream",
          "name": "stdout",
          "text": [
            "\b\b\b\b\b\b\b\b\b\b\b\b\b\b\b\b\b\b\b\b\b\b\b\b\b\b\b\b\b\b\b\b\b\b\b\b\b\b\b\b\b\b\b\b\b\b\b\b\b\b\b\b\b\b\b\b\b\b\b\b\b\b\b\b\b\b\b\b\b\b\b\b\b\b\b\b\b\b\b\b\b\b\r23/23 [==============================] - 33s 1s/step - loss: 2.4493 - accuracy: 0.3857 - val_loss: 2.5442 - val_accuracy: 0.2898\n",
            "Epoch 3/80\n",
            "23/23 [==============================] - ETA: 0s - loss: 2.1699 - accuracy: 0.4395"
          ]
        },
        {
          "output_type": "stream",
          "name": "stderr",
          "text": [
            "WARNING:absl:Found untraced functions such as _jit_compiled_convolution_op, _jit_compiled_convolution_op, _jit_compiled_convolution_op, _jit_compiled_convolution_op, _jit_compiled_convolution_op while saving (showing 5 of 52). These functions will not be directly callable after loading.\n"
          ]
        },
        {
          "output_type": "stream",
          "name": "stdout",
          "text": [
            "\b\b\b\b\b\b\b\b\b\b\b\b\b\b\b\b\b\b\b\b\b\b\b\b\b\b\b\b\b\b\b\b\b\b\b\b\b\b\b\b\b\b\b\b\b\b\b\b\b\b\b\b\b\b\b\b\b\b\b\b\b\b\b\b\b\b\b\b\b\b\b\b\b\b\b\b\b\b\b\b\b\b\r23/23 [==============================] - 35s 1s/step - loss: 2.1699 - accuracy: 0.4395 - val_loss: 2.3190 - val_accuracy: 0.3986\n",
            "Epoch 4/80\n",
            "23/23 [==============================] - ETA: 0s - loss: 1.9847 - accuracy: 0.4654"
          ]
        },
        {
          "output_type": "stream",
          "name": "stderr",
          "text": [
            "WARNING:absl:Found untraced functions such as _jit_compiled_convolution_op, _jit_compiled_convolution_op, _jit_compiled_convolution_op, _jit_compiled_convolution_op, _jit_compiled_convolution_op while saving (showing 5 of 52). These functions will not be directly callable after loading.\n"
          ]
        },
        {
          "output_type": "stream",
          "name": "stdout",
          "text": [
            "\b\b\b\b\b\b\b\b\b\b\b\b\b\b\b\b\b\b\b\b\b\b\b\b\b\b\b\b\b\b\b\b\b\b\b\b\b\b\b\b\b\b\b\b\b\b\b\b\b\b\b\b\b\b\b\b\b\b\b\b\b\b\b\b\b\b\b\b\b\b\b\b\b\b\b\b\b\b\b\b\b\b\r23/23 [==============================] - 42s 2s/step - loss: 1.9847 - accuracy: 0.4654 - val_loss: 2.0291 - val_accuracy: 0.4041\n",
            "Epoch 5/80\n",
            "23/23 [==============================] - ETA: 0s - loss: 1.8969 - accuracy: 0.4566"
          ]
        },
        {
          "output_type": "stream",
          "name": "stderr",
          "text": [
            "WARNING:absl:Found untraced functions such as _jit_compiled_convolution_op, _jit_compiled_convolution_op, _jit_compiled_convolution_op, _jit_compiled_convolution_op, _jit_compiled_convolution_op while saving (showing 5 of 52). These functions will not be directly callable after loading.\n"
          ]
        },
        {
          "output_type": "stream",
          "name": "stdout",
          "text": [
            "\b\b\b\b\b\b\b\b\b\b\b\b\b\b\b\b\b\b\b\b\b\b\b\b\b\b\b\b\b\b\b\b\b\b\b\b\b\b\b\b\b\b\b\b\b\b\b\b\b\b\b\b\b\b\b\b\b\b\b\b\b\b\b\b\b\b\b\b\b\b\b\b\b\b\b\b\b\b\b\b\b\b\r23/23 [==============================] - 37s 2s/step - loss: 1.8969 - accuracy: 0.4566 - val_loss: 1.7659 - val_accuracy: 0.5170\n",
            "Epoch 6/80\n",
            "23/23 [==============================] - 9s 311ms/step - loss: 1.7038 - accuracy: 0.5056 - val_loss: 1.8342 - val_accuracy: 0.4136\n",
            "Epoch 7/80\n",
            "23/23 [==============================] - ETA: 0s - loss: 1.6535 - accuracy: 0.5043"
          ]
        },
        {
          "output_type": "stream",
          "name": "stderr",
          "text": [
            "WARNING:absl:Found untraced functions such as _jit_compiled_convolution_op, _jit_compiled_convolution_op, _jit_compiled_convolution_op, _jit_compiled_convolution_op, _jit_compiled_convolution_op while saving (showing 5 of 52). These functions will not be directly callable after loading.\n"
          ]
        },
        {
          "output_type": "stream",
          "name": "stdout",
          "text": [
            "\b\b\b\b\b\b\b\b\b\b\b\b\b\b\b\b\b\b\b\b\b\b\b\b\b\b\b\b\b\b\b\b\b\b\b\b\b\b\b\b\b\b\b\b\b\b\b\b\b\b\b\b\b\b\b\b\b\b\b\b\b\b\b\b\b\b\b\b\b\b\b\b\b\b\b\b\b\b\b\b\b\b\r23/23 [==============================] - 41s 2s/step - loss: 1.6535 - accuracy: 0.5043 - val_loss: 1.6125 - val_accuracy: 0.5088\n",
            "Epoch 8/80\n",
            "23/23 [==============================] - 9s 296ms/step - loss: 1.5514 - accuracy: 0.5271 - val_loss: 1.8520 - val_accuracy: 0.3891\n",
            "Epoch 9/80\n",
            "23/23 [==============================] - ETA: 0s - loss: 1.4976 - accuracy: 0.5295"
          ]
        },
        {
          "output_type": "stream",
          "name": "stderr",
          "text": [
            "WARNING:absl:Found untraced functions such as _jit_compiled_convolution_op, _jit_compiled_convolution_op, _jit_compiled_convolution_op, _jit_compiled_convolution_op, _jit_compiled_convolution_op while saving (showing 5 of 52). These functions will not be directly callable after loading.\n"
          ]
        },
        {
          "output_type": "stream",
          "name": "stdout",
          "text": [
            "\b\b\b\b\b\b\b\b\b\b\b\b\b\b\b\b\b\b\b\b\b\b\b\b\b\b\b\b\b\b\b\b\b\b\b\b\b\b\b\b\b\b\b\b\b\b\b\b\b\b\b\b\b\b\b\b\b\b\b\b\b\b\b\b\b\b\b\b\b\b\b\b\b\b\b\b\b\b\b\b\b\b\r23/23 [==============================] - 36s 2s/step - loss: 1.4976 - accuracy: 0.5295 - val_loss: 1.5614 - val_accuracy: 0.4912\n",
            "Epoch 10/80\n",
            "23/23 [==============================] - 9s 340ms/step - loss: 1.4763 - accuracy: 0.5274 - val_loss: 1.5723 - val_accuracy: 0.4599\n",
            "Epoch 11/80\n",
            "23/23 [==============================] - 10s 322ms/step - loss: 1.3917 - accuracy: 0.5380 - val_loss: 1.8176 - val_accuracy: 0.3510\n",
            "Epoch 12/80\n",
            "23/23 [==============================] - 14s 541ms/step - loss: 1.3749 - accuracy: 0.5533 - val_loss: 1.6307 - val_accuracy: 0.3837\n",
            "Epoch 13/80\n",
            "23/23 [==============================] - 13s 497ms/step - loss: 1.3315 - accuracy: 0.5646 - val_loss: 1.5917 - val_accuracy: 0.4476\n",
            "Epoch 14/80\n",
            "23/23 [==============================] - 15s 554ms/step - loss: 1.3195 - accuracy: 0.5472 - val_loss: 1.7924 - val_accuracy: 0.3891\n",
            "Epoch 15/80\n",
            "23/23 [==============================] - ETA: 0s - loss: 1.3033 - accuracy: 0.5670"
          ]
        },
        {
          "output_type": "stream",
          "name": "stderr",
          "text": [
            "WARNING:absl:Found untraced functions such as _jit_compiled_convolution_op, _jit_compiled_convolution_op, _jit_compiled_convolution_op, _jit_compiled_convolution_op, _jit_compiled_convolution_op while saving (showing 5 of 52). These functions will not be directly callable after loading.\n"
          ]
        },
        {
          "output_type": "stream",
          "name": "stdout",
          "text": [
            "\b\b\b\b\b\b\b\b\b\b\b\b\b\b\b\b\b\b\b\b\b\b\b\b\b\b\b\b\b\b\b\b\b\b\b\b\b\b\b\b\b\b\b\b\b\b\b\b\b\b\b\b\b\b\b\b\b\b\b\b\b\b\b\b\b\b\b\b\b\b\b\b\b\b\b\b\b\b\b\b\b\b\r23/23 [==============================] - 34s 1s/step - loss: 1.3033 - accuracy: 0.5670 - val_loss: 1.4289 - val_accuracy: 0.5238\n",
            "Epoch 16/80\n",
            "23/23 [==============================] - 9s 342ms/step - loss: 1.2819 - accuracy: 0.5687 - val_loss: 1.4928 - val_accuracy: 0.4803\n",
            "Epoch 17/80\n",
            "23/23 [==============================] - 9s 299ms/step - loss: 1.2299 - accuracy: 0.5796 - val_loss: 1.4933 - val_accuracy: 0.4626\n",
            "Epoch 18/80\n",
            "23/23 [==============================] - ETA: 0s - loss: 1.2537 - accuracy: 0.5683"
          ]
        },
        {
          "output_type": "stream",
          "name": "stderr",
          "text": [
            "WARNING:absl:Found untraced functions such as _jit_compiled_convolution_op, _jit_compiled_convolution_op, _jit_compiled_convolution_op, _jit_compiled_convolution_op, _jit_compiled_convolution_op while saving (showing 5 of 52). These functions will not be directly callable after loading.\n"
          ]
        },
        {
          "output_type": "stream",
          "name": "stdout",
          "text": [
            "\b\b\b\b\b\b\b\b\b\b\b\b\b\b\b\b\b\b\b\b\b\b\b\b\b\b\b\b\b\b\b\b\b\b\b\b\b\b\b\b\b\b\b\b\b\b\b\b\b\b\b\b\b\b\b\b\b\b\b\b\b\b\b\b\b\b\b\b\b\b\b\b\b\b\b\b\b\b\b\b\b\b\r23/23 [==============================] - 36s 2s/step - loss: 1.2537 - accuracy: 0.5683 - val_loss: 1.3311 - val_accuracy: 0.5565\n",
            "Epoch 19/80\n",
            "23/23 [==============================] - 12s 460ms/step - loss: 1.2154 - accuracy: 0.5751 - val_loss: 1.3406 - val_accuracy: 0.5224\n",
            "Epoch 20/80\n",
            "23/23 [==============================] - 8s 293ms/step - loss: 1.2180 - accuracy: 0.5874 - val_loss: 1.8058 - val_accuracy: 0.3769\n",
            "Epoch 21/80\n",
            "23/23 [==============================] - 10s 299ms/step - loss: 1.2071 - accuracy: 0.5884 - val_loss: 1.6458 - val_accuracy: 0.4503\n",
            "Epoch 22/80\n",
            "23/23 [==============================] - 10s 373ms/step - loss: 1.2166 - accuracy: 0.5782 - val_loss: 1.4333 - val_accuracy: 0.5061\n",
            "Epoch 23/80\n",
            "23/23 [==============================] - ETA: 0s - loss: 1.1975 - accuracy: 0.5843"
          ]
        },
        {
          "output_type": "stream",
          "name": "stderr",
          "text": [
            "WARNING:absl:Found untraced functions such as _jit_compiled_convolution_op, _jit_compiled_convolution_op, _jit_compiled_convolution_op, _jit_compiled_convolution_op, _jit_compiled_convolution_op while saving (showing 5 of 52). These functions will not be directly callable after loading.\n"
          ]
        },
        {
          "output_type": "stream",
          "name": "stdout",
          "text": [
            "\b\b\b\b\b\b\b\b\b\b\b\b\b\b\b\b\b\b\b\b\b\b\b\b\b\b\b\b\b\b\b\b\b\b\b\b\b\b\b\b\b\b\b\b\b\b\b\b\b\b\b\b\b\b\b\b\b\b\b\b\b\b\b\b\b\b\b\b\b\b\b\b\b\b\b\b\b\b\b\b\b\b\r23/23 [==============================] - 34s 1s/step - loss: 1.1975 - accuracy: 0.5843 - val_loss: 1.2954 - val_accuracy: 0.5429\n",
            "Epoch 24/80\n",
            "23/23 [==============================] - 10s 358ms/step - loss: 1.1758 - accuracy: 0.5963 - val_loss: 1.3602 - val_accuracy: 0.5034\n",
            "Epoch 25/80\n",
            "23/23 [==============================] - 8s 296ms/step - loss: 1.1780 - accuracy: 0.5966 - val_loss: 1.4612 - val_accuracy: 0.4667\n",
            "Epoch 26/80\n",
            "23/23 [==============================] - 10s 358ms/step - loss: 1.1431 - accuracy: 0.6092 - val_loss: 1.5766 - val_accuracy: 0.4435\n",
            "Epoch 27/80\n",
            "23/23 [==============================] - 10s 356ms/step - loss: 1.1647 - accuracy: 0.5997 - val_loss: 1.4820 - val_accuracy: 0.4748\n",
            "Epoch 28/80\n",
            "23/23 [==============================] - 9s 306ms/step - loss: 1.1722 - accuracy: 0.5980 - val_loss: 1.3174 - val_accuracy: 0.5306\n",
            "Epoch 29/80\n",
            "23/23 [==============================] - 9s 299ms/step - loss: 1.1526 - accuracy: 0.6068 - val_loss: 1.3601 - val_accuracy: 0.5102\n",
            "Epoch 30/80\n",
            "23/23 [==============================] - 10s 384ms/step - loss: 1.1444 - accuracy: 0.5969 - val_loss: 1.4868 - val_accuracy: 0.4721\n"
          ]
        }
      ]
    },
    {
      "cell_type": "code",
      "source": [
        "# To load the best model\n",
        "base_net.load_weights(checkpoint_filepath)"
      ],
      "metadata": {
        "colab": {
          "base_uri": "https://localhost:8080/"
        },
        "id": "hGSgcWd8Tort",
        "outputId": "542e94bc-47d4-4945-85d9-82c5a643d5f0"
      },
      "execution_count": 22,
      "outputs": [
        {
          "output_type": "execute_result",
          "data": {
            "text/plain": [
              "<tensorflow.python.checkpoint.checkpoint.CheckpointLoadStatus at 0x7f2fb1b2a2f0>"
            ]
          },
          "metadata": {},
          "execution_count": 22
        }
      ]
    },
    {
      "cell_type": "markdown",
      "source": [
        "## Validation of our Best Model"
      ],
      "metadata": {
        "id": "of_m7VKVQasD"
      }
    },
    {
      "cell_type": "code",
      "source": [
        "# Visualization of the learning curves\n",
        "acc = (history.history['accuracy'])\n",
        "val_acc = (history.history['val_accuracy'])\n",
        "\n",
        "loss = (history.history['loss'])\n",
        "val_loss = (history.history['val_loss'])\n",
        "\n",
        "num_epochs = len(history.epoch)\n",
        "epochs_range = range(1, num_epochs + 1)\n",
        "\n",
        "plt.figure(figsize=(8, 8))\n",
        "plt.subplot(1, 2, 1)\n",
        "plt.plot(epochs_range, loss, label='Training Loss')\n",
        "plt.plot(epochs_range, val_loss, label='Validation Loss')\n",
        "plt.legend(loc='upper right')\n",
        "plt.title('Training and Validation Loss')\n",
        "\n",
        "plt.subplot(1, 2, 2)\n",
        "plt.plot(epochs_range, acc, label='Training Accuracy')\n",
        "plt.plot(epochs_range, val_acc, label='Validation Accuracy')\n",
        "plt.legend(loc='lower right')\n",
        "plt.title('Training and Validation Accuracy')\n",
        "\n",
        "plt.show()"
      ],
      "metadata": {
        "colab": {
          "base_uri": "https://localhost:8080/",
          "height": 699
        },
        "id": "Tqdwg-sEQfex",
        "outputId": "a210ba51-a612-447f-8e75-883f6e661842"
      },
      "execution_count": 23,
      "outputs": [
        {
          "output_type": "display_data",
          "data": {
            "text/plain": [
              "<Figure size 800x800 with 2 Axes>"
            ],
            "image/png": "[encoded data removed]"
          },
          "metadata": {}
        }
      ]
    },
    {
      "cell_type": "code",
      "source": [
        "# Evaluation Best Model\n",
        "score = base_net.evaluate(val_dataset)\n",
        "print('Test loss:', score[0])\n",
        "print('Test accuracy:', score[1])"
      ],
      "metadata": {
        "colab": {
          "base_uri": "https://localhost:8080/"
        },
        "id": "293Qwdq7QkyJ",
        "outputId": "c0122838-f223-4265-f726-0f69554178f2"
      },
      "execution_count": 24,
      "outputs": [
        {
          "output_type": "stream",
          "name": "stdout",
          "text": [
            "6/6 [==============================] - 2s 241ms/step - loss: 1.2954 - accuracy: 0.5429\n",
            "Test loss: 1.2954270839691162\n",
            "Test accuracy: 0.5428571701049805\n"
          ]
        }
      ]
    },
    {
      "cell_type": "markdown",
      "source": [
        "### Validation using prediction method"
      ],
      "metadata": {
        "id": "CzwPAiMsQqy0"
      }
    },
    {
      "cell_type": "code",
      "source": [
        "# Inference\n",
        "yc_pred = base_net.predict(val_dataset)\n",
        "print('Prediction shape (probability distribution):', yc_pred.shape)"
      ],
      "metadata": {
        "colab": {
          "base_uri": "https://localhost:8080/"
        },
        "id": "3feVnUU_QqYu",
        "outputId": "3a0c396a-5cc1-458c-90d7-7b0b85887458"
      },
      "execution_count": 25,
      "outputs": [
        {
          "output_type": "stream",
          "name": "stdout",
          "text": [
            "6/6 [==============================] - 3s 297ms/step\n",
            "Prediction shape (probability distribution): (735, 5)\n"
          ]
        }
      ]
    },
    {
      "cell_type": "code",
      "source": [
        "# Selection of the highest-probability class for each test sample\n",
        "y_pred = np.argmax(yc_pred, axis=1)"
      ],
      "metadata": {
        "id": "3e7Uygg4QtaM"
      },
      "execution_count": 26,
      "outputs": []
    },
    {
      "cell_type": "code",
      "source": [
        "# Retrieving the ground truth classes\n",
        "yc_test = np.concatenate([y for _, y in val_dataset], axis=0)"
      ],
      "metadata": {
        "id": "7BdtqUSQQtQv"
      },
      "execution_count": 27,
      "outputs": []
    },
    {
      "cell_type": "code",
      "source": [
        "y_test = np.argmax(yc_test, axis=1)"
      ],
      "metadata": {
        "id": "iG9RYglSQtF2"
      },
      "execution_count": 28,
      "outputs": []
    },
    {
      "cell_type": "code",
      "source": [
        "accuracy_score(y_test, y_pred)"
      ],
      "metadata": {
        "colab": {
          "base_uri": "https://localhost:8080/"
        },
        "id": "i_RSYpJNQyHE",
        "outputId": "7faa194c-22fb-4d5d-8524-1744b1c054ce"
      },
      "execution_count": 29,
      "outputs": [
        {
          "output_type": "execute_result",
          "data": {
            "text/plain": [
              "0.5428571428571428"
            ]
          },
          "metadata": {},
          "execution_count": 29
        }
      ]
    },
    {
      "cell_type": "code",
      "source": [
        "# Classification report\n",
        "print('Classification report:')\n",
        "print(classification_report(y_test, y_pred))"
      ],
      "metadata": {
        "colab": {
          "base_uri": "https://localhost:8080/"
        },
        "id": "i8oToUxRQyEZ",
        "outputId": "b0735705-72ba-4ee3-a92f-ced18e1502c9"
      },
      "execution_count": 30,
      "outputs": [
        {
          "output_type": "stream",
          "name": "stdout",
          "text": [
            "Classification report:\n",
            "              precision    recall  f1-score   support\n",
            "\n",
            "           0       0.52      0.50      0.51       127\n",
            "           1       0.65      0.61      0.63       180\n",
            "           2       0.77      0.36      0.49       128\n",
            "           3       0.43      0.59      0.50       140\n",
            "           4       0.51      0.61      0.55       160\n",
            "\n",
            "    accuracy                           0.54       735\n",
            "   macro avg       0.57      0.53      0.54       735\n",
            "weighted avg       0.57      0.54      0.54       735\n",
            "\n"
          ]
        }
      ]
    },
    {
      "cell_type": "code",
      "source": [
        "# Confusion matrix\n",
        "print('Confusion matrix:')\n",
        "cm = confusion_matrix(y_test, y_pred)\n",
        "plt.imshow(cm, cmap=plt.cm.Blues)\n",
        "plt.xlabel('Predicted class')\n",
        "plt.ylabel('Ground truth class')"
      ],
      "metadata": {
        "colab": {
          "base_uri": "https://localhost:8080/",
          "height": 483
        },
        "id": "2MVNQ-p8QyBo",
        "outputId": "90066fe7-c81b-43d6-ed89-9de88bd6374c"
      },
      "execution_count": 31,
      "outputs": [
        {
          "output_type": "stream",
          "name": "stdout",
          "text": [
            "Confusion matrix:\n"
          ]
        },
        {
          "output_type": "execute_result",
          "data": {
            "text/plain": [
              "Text(0, 0.5, 'Ground truth class')"
            ]
          },
          "metadata": {},
          "execution_count": 31
        },
        {
          "output_type": "display_data",
          "data": {
            "text/plain": [
              "<Figure size 640x480 with 1 Axes>"
            ],
            "image/png": "[encoded data removed]"
          },
          "metadata": {}
        }
      ]
    },
    {
      "cell_type": "code",
      "source": [
        "keras.utils.plot_model(base_net)"
      ],
      "metadata": {
        "colab": {
          "base_uri": "https://localhost:8080/",
          "height": 466
        },
        "id": "v-gOAOxSQmpA",
        "outputId": "60c9c570-10ce-4d8b-da61-0bc08d249ee6"
      },
      "execution_count": 32,
      "outputs": [
        {
          "output_type": "execute_result",
          "data": {
            "image/png": "[encoded data removed]",
            "text/plain": [
              "<IPython.core.display.Image object>"
            ]
          },
          "metadata": {},
          "execution_count": 32
        }
      ]
    },
    {
      "cell_type": "markdown",
      "source": [
        "# Model - Pretrained - BaseNet (V2)"
      ],
      "metadata": {
        "id": "nUEthjqhUFaA"
      }
    },
    {
      "cell_type": "code",
      "source": [
        "num_classes = 5"
      ],
      "metadata": {
        "id": "WDGGjdd2UZp5"
      },
      "execution_count": 52,
      "outputs": []
    },
    {
      "cell_type": "code",
      "source": [
        "# we set an early stopping\n",
        "callback = keras.callbacks.EarlyStopping(monitor='val_loss', patience=7)\n",
        "\n",
        "#we save only the best model\n",
        "checkpoint_filepath = 'gdrive/MyDrive/Project_DeepLearning/2_CNN_BaseNet_V2'\n",
        "mcp_save = tf.keras.callbacks.ModelCheckpoint(filepath=checkpoint_filepath, save_best_only=True, monitor='val_loss', mode='min')"
      ],
      "metadata": {
        "id": "e2RHK60RUZp6"
      },
      "execution_count": 53,
      "outputs": []
    },
    {
      "cell_type": "code",
      "source": [
        "# Download Base Model weights\n",
        "base_net_v2 = keras.applications.MobileNetV2(input_shape=(224,224,3), weights='imagenet', include_top=False, pooling='avg')"
      ],
      "metadata": {
        "id": "izH10T3uUZp7"
      },
      "execution_count": 54,
      "outputs": []
    },
    {
      "cell_type": "code",
      "source": [
        "# Freezing the base model weights\n",
        "base_net_v2.trainable = False"
      ],
      "metadata": {
        "id": "Dd6wNE5-UZp7"
      },
      "execution_count": 55,
      "outputs": []
    },
    {
      "cell_type": "markdown",
      "source": [
        "In v2 version it has been deleted the regularizer in dense level 1024 and added a new following level 64"
      ],
      "metadata": {
        "id": "4LVh-yO1U5Gz"
      }
    },
    {
      "cell_type": "code",
      "source": [
        "# Explicit input layer\n",
        "inputs = keras.Input((224,224,3))\n",
        "#x = inputs\n",
        "x = data_augmentation(inputs)\n",
        "\n",
        "# Output of the base model\n",
        "x = base_net_v2(x)\n",
        "\n",
        "x = keras.layers.Dense(1024, activation='relu')(x)\n",
        "\n",
        "outputs = keras.layers.Dense(num_classes, activation=\"softmax\")(x)\n",
        "\n",
        "base_net_v2 = keras.Model(inputs, outputs)"
      ],
      "metadata": {
        "id": "D7L8IO7tUZp8"
      },
      "execution_count": 56,
      "outputs": []
    },
    {
      "cell_type": "code",
      "source": [
        "print(base_net_v2.summary())"
      ],
      "metadata": {
        "colab": {
          "base_uri": "https://localhost:8080/"
        },
        "outputId": "6907346d-35c6-4358-a5ec-9b0eefd454bb",
        "id": "_U_5PcJeUZp8"
      },
      "execution_count": 57,
      "outputs": [
        {
          "output_type": "stream",
          "name": "stdout",
          "text": [
            "Model: \"model_5\"\n",
            "_________________________________________________________________\n",
            " Layer (type)                Output Shape              Param #   \n",
            "=================================================================\n",
            " input_12 (InputLayer)       [(None, 224, 224, 3)]     0         \n",
            "                                                                 \n",
            " sequential (Sequential)     (None, 224, 224, 3)       7         \n",
            "                                                                 \n",
            " mobilenetv2_1.00_224 (Funct  (None, 1280)             2257984   \n",
            " ional)                                                          \n",
            "                                                                 \n",
            " dense_11 (Dense)            (None, 1024)              1311744   \n",
            "                                                                 \n",
            " dense_12 (Dense)            (None, 5)                 5125      \n",
            "                                                                 \n",
            "=================================================================\n",
            "Total params: 3,574,860\n",
            "Trainable params: 1,316,869\n",
            "Non-trainable params: 2,257,991\n",
            "_________________________________________________________________\n",
            "None\n"
          ]
        }
      ]
    },
    {
      "cell_type": "markdown",
      "source": [
        "## Compile & Training - Base.Net Model"
      ],
      "metadata": {
        "id": "sDa0VudbUZp8"
      }
    },
    {
      "cell_type": "code",
      "source": [
        "# Compile the model for training\n",
        "base_net_v2.compile(loss=keras.losses.categorical_crossentropy,\n",
        "            optimizer=keras.optimizers.RMSprop(learning_rate=0.001),\n",
        "            metrics=['accuracy'])"
      ],
      "metadata": {
        "id": "QVGwyzzkUZp9"
      },
      "execution_count": 58,
      "outputs": []
    },
    {
      "cell_type": "code",
      "source": [
        "# Model training\n",
        "history = base_net_v2.fit(train_dataset,\n",
        "          epochs=80,\n",
        "          validation_data=val_dataset,\n",
        "          callbacks=[callback, mcp_save]);"
      ],
      "metadata": {
        "colab": {
          "base_uri": "https://localhost:8080/"
        },
        "outputId": "554dd530-94f3-4000-ce73-52ee4c56ecd9",
        "id": "LbDinncAUZp9"
      },
      "execution_count": 59,
      "outputs": [
        {
          "output_type": "stream",
          "name": "stdout",
          "text": [
            "Epoch 1/80\n",
            "23/23 [==============================] - ETA: 0s - loss: 3.1833 - accuracy: 0.3145"
          ]
        },
        {
          "output_type": "stream",
          "name": "stderr",
          "text": [
            "WARNING:absl:Found untraced functions such as _jit_compiled_convolution_op, _jit_compiled_convolution_op, _jit_compiled_convolution_op, _jit_compiled_convolution_op, _jit_compiled_convolution_op while saving (showing 5 of 52). These functions will not be directly callable after loading.\n"
          ]
        },
        {
          "output_type": "stream",
          "name": "stdout",
          "text": [
            "\b\b\b\b\b\b\b\b\b\b\b\b\b\b\b\b\b\b\b\b\b\b\b\b\b\b\b\b\b\b\b\b\b\b\b\b\b\b\b\b\b\b\b\b\b\b\b\b\b\b\b\b\b\b\b\b\b\b\b\b\b\b\b\b\b\b\b\b\b\b\b\b\b\b\b\b\b\b\b\b\b\b\r23/23 [==============================] - 39s 2s/step - loss: 3.1833 - accuracy: 0.3145 - val_loss: 1.6664 - val_accuracy: 0.3347\n",
            "Epoch 2/80\n",
            "23/23 [==============================] - ETA: 0s - loss: 1.4696 - accuracy: 0.4194"
          ]
        },
        {
          "output_type": "stream",
          "name": "stderr",
          "text": [
            "WARNING:absl:Found untraced functions such as _jit_compiled_convolution_op, _jit_compiled_convolution_op, _jit_compiled_convolution_op, _jit_compiled_convolution_op, _jit_compiled_convolution_op while saving (showing 5 of 52). These functions will not be directly callable after loading.\n"
          ]
        },
        {
          "output_type": "stream",
          "name": "stdout",
          "text": [
            "\b\b\b\b\b\b\b\b\b\b\b\b\b\b\b\b\b\b\b\b\b\b\b\b\b\b\b\b\b\b\b\b\b\b\b\b\b\b\b\b\b\b\b\b\b\b\b\b\b\b\b\b\b\b\b\b\b\b\b\b\b\b\b\b\b\b\b\b\b\b\b\b\b\b\b\b\b\b\b\b\b\b\r23/23 [==============================] - 35s 2s/step - loss: 1.4696 - accuracy: 0.4194 - val_loss: 1.5936 - val_accuracy: 0.3592\n",
            "Epoch 3/80\n",
            "23/23 [==============================] - ETA: 0s - loss: 1.4158 - accuracy: 0.4153"
          ]
        },
        {
          "output_type": "stream",
          "name": "stderr",
          "text": [
            "WARNING:absl:Found untraced functions such as _jit_compiled_convolution_op, _jit_compiled_convolution_op, _jit_compiled_convolution_op, _jit_compiled_convolution_op, _jit_compiled_convolution_op while saving (showing 5 of 52). These functions will not be directly callable after loading.\n"
          ]
        },
        {
          "output_type": "stream",
          "name": "stdout",
          "text": [
            "\b\b\b\b\b\b\b\b\b\b\b\b\b\b\b\b\b\b\b\b\b\b\b\b\b\b\b\b\b\b\b\b\b\b\b\b\b\b\b\b\b\b\b\b\b\b\b\b\b\b\b\b\b\b\b\b\b\b\b\b\b\b\b\b\b\b\b\b\b\b\b\b\b\b\b\b\b\b\b\b\b\b\r23/23 [==============================] - 34s 1s/step - loss: 1.4158 - accuracy: 0.4153 - val_loss: 1.3796 - val_accuracy: 0.4041\n",
            "Epoch 4/80\n",
            "23/23 [==============================] - 10s 346ms/step - loss: 1.3563 - accuracy: 0.4572 - val_loss: 1.4167 - val_accuracy: 0.3687\n",
            "Epoch 5/80\n",
            "23/23 [==============================] - ETA: 0s - loss: 1.2718 - accuracy: 0.4971"
          ]
        },
        {
          "output_type": "stream",
          "name": "stderr",
          "text": [
            "WARNING:absl:Found untraced functions such as _jit_compiled_convolution_op, _jit_compiled_convolution_op, _jit_compiled_convolution_op, _jit_compiled_convolution_op, _jit_compiled_convolution_op while saving (showing 5 of 52). These functions will not be directly callable after loading.\n"
          ]
        },
        {
          "output_type": "stream",
          "name": "stdout",
          "text": [
            "\b\b\b\b\b\b\b\b\b\b\b\b\b\b\b\b\b\b\b\b\b\b\b\b\b\b\b\b\b\b\b\b\b\b\b\b\b\b\b\b\b\b\b\b\b\b\b\b\b\b\b\b\b\b\b\b\b\b\b\b\b\b\b\b\b\b\b\b\b\b\b\b\b\b\b\b\b\b\b\b\b\b\r23/23 [==============================] - 34s 1s/step - loss: 1.2718 - accuracy: 0.4971 - val_loss: 1.2997 - val_accuracy: 0.4667\n",
            "Epoch 6/80\n",
            "23/23 [==============================] - ETA: 0s - loss: 1.2322 - accuracy: 0.5155"
          ]
        },
        {
          "output_type": "stream",
          "name": "stderr",
          "text": [
            "WARNING:absl:Found untraced functions such as _jit_compiled_convolution_op, _jit_compiled_convolution_op, _jit_compiled_convolution_op, _jit_compiled_convolution_op, _jit_compiled_convolution_op while saving (showing 5 of 52). These functions will not be directly callable after loading.\n"
          ]
        },
        {
          "output_type": "stream",
          "name": "stdout",
          "text": [
            "\b\b\b\b\b\b\b\b\b\b\b\b\b\b\b\b\b\b\b\b\b\b\b\b\b\b\b\b\b\b\b\b\b\b\b\b\b\b\b\b\b\b\b\b\b\b\b\b\b\b\b\b\b\b\b\b\b\b\b\b\b\b\b\b\b\b\b\b\b\b\b\b\b\b\b\b\b\b\b\b\b\b\r23/23 [==============================] - 34s 1s/step - loss: 1.2322 - accuracy: 0.5155 - val_loss: 1.2766 - val_accuracy: 0.4966\n",
            "Epoch 7/80\n",
            "23/23 [==============================] - ETA: 0s - loss: 1.2038 - accuracy: 0.5325"
          ]
        },
        {
          "output_type": "stream",
          "name": "stderr",
          "text": [
            "WARNING:absl:Found untraced functions such as _jit_compiled_convolution_op, _jit_compiled_convolution_op, _jit_compiled_convolution_op, _jit_compiled_convolution_op, _jit_compiled_convolution_op while saving (showing 5 of 52). These functions will not be directly callable after loading.\n"
          ]
        },
        {
          "output_type": "stream",
          "name": "stdout",
          "text": [
            "\b\b\b\b\b\b\b\b\b\b\b\b\b\b\b\b\b\b\b\b\b\b\b\b\b\b\b\b\b\b\b\b\b\b\b\b\b\b\b\b\b\b\b\b\b\b\b\b\b\b\b\b\b\b\b\b\b\b\b\b\b\b\b\b\b\b\b\b\b\b\b\b\b\b\b\b\b\b\b\b\b\b\r23/23 [==============================] - 34s 1s/step - loss: 1.2038 - accuracy: 0.5325 - val_loss: 1.2166 - val_accuracy: 0.5007\n",
            "Epoch 8/80\n",
            "23/23 [==============================] - 10s 372ms/step - loss: 1.1599 - accuracy: 0.5370 - val_loss: 1.2926 - val_accuracy: 0.4517\n",
            "Epoch 9/80\n",
            "23/23 [==============================] - 9s 317ms/step - loss: 1.1370 - accuracy: 0.5509 - val_loss: 1.3952 - val_accuracy: 0.4218\n",
            "Epoch 10/80\n",
            "23/23 [==============================] - 9s 300ms/step - loss: 1.1613 - accuracy: 0.5356 - val_loss: 1.4229 - val_accuracy: 0.4218\n",
            "Epoch 11/80\n",
            "23/23 [==============================] - 10s 384ms/step - loss: 1.1098 - accuracy: 0.5588 - val_loss: 1.3254 - val_accuracy: 0.4844\n",
            "Epoch 12/80\n",
            "23/23 [==============================] - 10s 353ms/step - loss: 1.0835 - accuracy: 0.5751 - val_loss: 1.3145 - val_accuracy: 0.4816\n",
            "Epoch 13/80\n",
            "23/23 [==============================] - ETA: 0s - loss: 1.0926 - accuracy: 0.5823"
          ]
        },
        {
          "output_type": "stream",
          "name": "stderr",
          "text": [
            "WARNING:absl:Found untraced functions such as _jit_compiled_convolution_op, _jit_compiled_convolution_op, _jit_compiled_convolution_op, _jit_compiled_convolution_op, _jit_compiled_convolution_op while saving (showing 5 of 52). These functions will not be directly callable after loading.\n"
          ]
        },
        {
          "output_type": "stream",
          "name": "stdout",
          "text": [
            "\b\b\b\b\b\b\b\b\b\b\b\b\b\b\b\b\b\b\b\b\b\b\b\b\b\b\b\b\b\b\b\b\b\b\b\b\b\b\b\b\b\b\b\b\b\b\b\b\b\b\b\b\b\b\b\b\b\b\b\b\b\b\b\b\b\b\b\b\b\b\b\b\b\b\b\b\b\b\b\b\b\b\r23/23 [==============================] - 33s 1s/step - loss: 1.0926 - accuracy: 0.5823 - val_loss: 1.1949 - val_accuracy: 0.5197\n",
            "Epoch 14/80\n",
            "23/23 [==============================] - 10s 365ms/step - loss: 1.0888 - accuracy: 0.5693 - val_loss: 1.1985 - val_accuracy: 0.5306\n",
            "Epoch 15/80\n",
            "23/23 [==============================] - 9s 337ms/step - loss: 1.0469 - accuracy: 0.5894 - val_loss: 1.2948 - val_accuracy: 0.4857\n",
            "Epoch 16/80\n",
            "23/23 [==============================] - ETA: 0s - loss: 1.0389 - accuracy: 0.5741"
          ]
        },
        {
          "output_type": "stream",
          "name": "stderr",
          "text": [
            "WARNING:absl:Found untraced functions such as _jit_compiled_convolution_op, _jit_compiled_convolution_op, _jit_compiled_convolution_op, _jit_compiled_convolution_op, _jit_compiled_convolution_op while saving (showing 5 of 52). These functions will not be directly callable after loading.\n"
          ]
        },
        {
          "output_type": "stream",
          "name": "stdout",
          "text": [
            "\b\b\b\b\b\b\b\b\b\b\b\b\b\b\b\b\b\b\b\b\b\b\b\b\b\b\b\b\b\b\b\b\b\b\b\b\b\b\b\b\b\b\b\b\b\b\b\b\b\b\b\b\b\b\b\b\b\b\b\b\b\b\b\b\b\b\b\b\b\b\b\b\b\b\b\b\b\b\b\b\b\b\r23/23 [==============================] - 34s 1s/step - loss: 1.0389 - accuracy: 0.5741 - val_loss: 1.1882 - val_accuracy: 0.5279\n",
            "Epoch 17/80\n",
            "23/23 [==============================] - 10s 346ms/step - loss: 1.0275 - accuracy: 0.5949 - val_loss: 1.2122 - val_accuracy: 0.5224\n",
            "Epoch 18/80\n",
            "23/23 [==============================] - 9s 342ms/step - loss: 1.0136 - accuracy: 0.6068 - val_loss: 1.2359 - val_accuracy: 0.5020\n",
            "Epoch 19/80\n",
            "23/23 [==============================] - 9s 296ms/step - loss: 1.0043 - accuracy: 0.6143 - val_loss: 1.2527 - val_accuracy: 0.4884\n",
            "Epoch 20/80\n",
            "23/23 [==============================] - 10s 378ms/step - loss: 1.0053 - accuracy: 0.6058 - val_loss: 1.6628 - val_accuracy: 0.3673\n",
            "Epoch 21/80\n",
            "23/23 [==============================] - ETA: 0s - loss: 1.0123 - accuracy: 0.6041"
          ]
        },
        {
          "output_type": "stream",
          "name": "stderr",
          "text": [
            "WARNING:absl:Found untraced functions such as _jit_compiled_convolution_op, _jit_compiled_convolution_op, _jit_compiled_convolution_op, _jit_compiled_convolution_op, _jit_compiled_convolution_op while saving (showing 5 of 52). These functions will not be directly callable after loading.\n"
          ]
        },
        {
          "output_type": "stream",
          "name": "stdout",
          "text": [
            "\b\b\b\b\b\b\b\b\b\b\b\b\b\b\b\b\b\b\b\b\b\b\b\b\b\b\b\b\b\b\b\b\b\b\b\b\b\b\b\b\b\b\b\b\b\b\b\b\b\b\b\b\b\b\b\b\b\b\b\b\b\b\b\b\b\b\b\b\b\b\b\b\b\b\b\b\b\b\b\b\b\b\r23/23 [==============================] - 37s 2s/step - loss: 1.0123 - accuracy: 0.6041 - val_loss: 1.1222 - val_accuracy: 0.5578\n",
            "Epoch 22/80\n",
            "23/23 [==============================] - 9s 294ms/step - loss: 1.0006 - accuracy: 0.6211 - val_loss: 1.3105 - val_accuracy: 0.4939\n",
            "Epoch 23/80\n",
            "23/23 [==============================] - 10s 371ms/step - loss: 0.9723 - accuracy: 0.6221 - val_loss: 1.2265 - val_accuracy: 0.5265\n",
            "Epoch 24/80\n",
            "23/23 [==============================] - 9s 348ms/step - loss: 0.9931 - accuracy: 0.6102 - val_loss: 1.3733 - val_accuracy: 0.4912\n",
            "Epoch 25/80\n",
            "23/23 [==============================] - 8s 300ms/step - loss: 0.9633 - accuracy: 0.6259 - val_loss: 1.1461 - val_accuracy: 0.5565\n",
            "Epoch 26/80\n",
            "23/23 [==============================] - 10s 356ms/step - loss: 0.9466 - accuracy: 0.6348 - val_loss: 1.2283 - val_accuracy: 0.5116\n",
            "Epoch 27/80\n",
            "23/23 [==============================] - 9s 347ms/step - loss: 0.9516 - accuracy: 0.6293 - val_loss: 1.2229 - val_accuracy: 0.5279\n",
            "Epoch 28/80\n",
            "23/23 [==============================] - 8s 295ms/step - loss: 0.9305 - accuracy: 0.6457 - val_loss: 1.2118 - val_accuracy: 0.5347\n"
          ]
        }
      ]
    },
    {
      "cell_type": "code",
      "source": [
        "# To load the best model\n",
        "base_net_v2.load_weights(checkpoint_filepath)"
      ],
      "metadata": {
        "colab": {
          "base_uri": "https://localhost:8080/"
        },
        "outputId": "f484040b-1eea-4615-9eb2-f26b5e4923f6",
        "id": "U5TmJ6shUZp_"
      },
      "execution_count": 60,
      "outputs": [
        {
          "output_type": "execute_result",
          "data": {
            "text/plain": [
              "<tensorflow.python.checkpoint.checkpoint.CheckpointLoadStatus at 0x7f2eca816c20>"
            ]
          },
          "metadata": {},
          "execution_count": 60
        }
      ]
    },
    {
      "cell_type": "markdown",
      "source": [
        "## Validation of our Best Model"
      ],
      "metadata": {
        "id": "LYg4LNN3UZqA"
      }
    },
    {
      "cell_type": "code",
      "source": [
        "# Visualization of the learning curves\n",
        "acc = (history.history['accuracy'])\n",
        "val_acc = (history.history['val_accuracy'])\n",
        "\n",
        "loss = (history.history['loss'])\n",
        "val_loss = (history.history['val_loss'])\n",
        "\n",
        "num_epochs = len(history.epoch)\n",
        "epochs_range = range(1, num_epochs + 1)\n",
        "\n",
        "plt.figure(figsize=(8, 8))\n",
        "plt.subplot(1, 2, 1)\n",
        "plt.plot(epochs_range, loss, label='Training Loss')\n",
        "plt.plot(epochs_range, val_loss, label='Validation Loss')\n",
        "plt.legend(loc='upper right')\n",
        "plt.title('Training and Validation Loss')\n",
        "\n",
        "plt.subplot(1, 2, 2)\n",
        "plt.plot(epochs_range, acc, label='Training Accuracy')\n",
        "plt.plot(epochs_range, val_acc, label='Validation Accuracy')\n",
        "plt.legend(loc='lower right')\n",
        "plt.title('Training and Validation Accuracy')\n",
        "\n",
        "plt.show()"
      ],
      "metadata": {
        "colab": {
          "base_uri": "https://localhost:8080/",
          "height": 699
        },
        "outputId": "e5dd8f83-a44a-4df6-c72e-ce03804a3b73",
        "id": "s7rcujSfUZqA"
      },
      "execution_count": 61,
      "outputs": [
        {
          "output_type": "display_data",
          "data": {
            "text/plain": [
              "<Figure size 800x800 with 2 Axes>"
            ],
            "image/png": "[encoded data removed]"
          },
          "metadata": {}
        }
      ]
    },
    {
      "cell_type": "code",
      "source": [
        "# Evaluation Best Model\n",
        "score = base_net_v2.evaluate(val_dataset)\n",
        "print('Test loss:', score[0])\n",
        "print('Test accuracy:', score[1])"
      ],
      "metadata": {
        "colab": {
          "base_uri": "https://localhost:8080/"
        },
        "outputId": "c0122838-f223-4265-f726-0f69554178f2",
        "id": "XoNfauAzVSGo"
      },
      "execution_count": null,
      "outputs": [
        {
          "output_type": "stream",
          "name": "stdout",
          "text": [
            "6/6 [==============================] - 2s 241ms/step - loss: 1.2954 - accuracy: 0.5429\n",
            "Test loss: 1.2954270839691162\n",
            "Test accuracy: 0.5428571701049805\n"
          ]
        }
      ]
    },
    {
      "cell_type": "markdown",
      "source": [
        "### Validation using prediction method"
      ],
      "metadata": {
        "id": "oeQ4hQgmVSGp"
      }
    },
    {
      "cell_type": "code",
      "source": [
        "# Inference\n",
        "yc_pred = base_net_v2.predict(val_dataset)\n",
        "print('Prediction shape (probability distribution):', yc_pred.shape)"
      ],
      "metadata": {
        "colab": {
          "base_uri": "https://localhost:8080/"
        },
        "outputId": "438fc430-7c80-47b5-9d8a-ba9c29d98eea",
        "id": "W1qOxNYTVSGp"
      },
      "execution_count": 62,
      "outputs": [
        {
          "output_type": "stream",
          "name": "stdout",
          "text": [
            "6/6 [==============================] - 5s 434ms/step\n",
            "Prediction shape (probability distribution): (735, 5)\n"
          ]
        }
      ]
    },
    {
      "cell_type": "code",
      "source": [
        "# Selection of the highest-probability class for each test sample\n",
        "y_pred = np.argmax(yc_pred, axis=1)"
      ],
      "metadata": {
        "id": "JhNrUDJbVSGp"
      },
      "execution_count": 63,
      "outputs": []
    },
    {
      "cell_type": "code",
      "source": [
        "# Retrieving the ground truth classes\n",
        "yc_test = np.concatenate([y for _, y in val_dataset], axis=0)"
      ],
      "metadata": {
        "id": "IQ-r69jvVSGq"
      },
      "execution_count": 64,
      "outputs": []
    },
    {
      "cell_type": "code",
      "source": [
        "y_test = np.argmax(yc_test, axis=1)"
      ],
      "metadata": {
        "id": "_A8p9i93VSGq"
      },
      "execution_count": 65,
      "outputs": []
    },
    {
      "cell_type": "code",
      "source": [
        "accuracy_score(y_test, y_pred)"
      ],
      "metadata": {
        "colab": {
          "base_uri": "https://localhost:8080/"
        },
        "outputId": "7379d764-f0ee-40dd-b1e7-840b6bbc7035",
        "id": "vxf-09EcVSGq"
      },
      "execution_count": 66,
      "outputs": [
        {
          "output_type": "execute_result",
          "data": {
            "text/plain": [
              "0.5578231292517006"
            ]
          },
          "metadata": {},
          "execution_count": 66
        }
      ]
    },
    {
      "cell_type": "code",
      "source": [
        "# Classification report\n",
        "print('Classification report:')\n",
        "print(classification_report(y_test, y_pred))"
      ],
      "metadata": {
        "colab": {
          "base_uri": "https://localhost:8080/"
        },
        "outputId": "c9a0863b-2df5-43f0-d461-063fea0bee5f",
        "id": "hPzEQbd3VSGq"
      },
      "execution_count": 67,
      "outputs": [
        {
          "output_type": "stream",
          "name": "stdout",
          "text": [
            "Classification report:\n",
            "              precision    recall  f1-score   support\n",
            "\n",
            "           0       0.44      0.50      0.46       127\n",
            "           1       0.60      0.68      0.64       180\n",
            "           2       0.59      0.66      0.63       128\n",
            "           3       0.49      0.58      0.53       140\n",
            "           4       0.75      0.36      0.49       160\n",
            "\n",
            "    accuracy                           0.56       735\n",
            "   macro avg       0.57      0.56      0.55       735\n",
            "weighted avg       0.58      0.56      0.55       735\n",
            "\n"
          ]
        }
      ]
    },
    {
      "cell_type": "code",
      "source": [
        "# Confusion matrix\n",
        "print('Confusion matrix:')\n",
        "cm = confusion_matrix(y_test, y_pred)\n",
        "plt.imshow(cm, cmap=plt.cm.Blues)\n",
        "plt.xlabel('Predicted class')\n",
        "plt.ylabel('Ground truth class')"
      ],
      "metadata": {
        "colab": {
          "base_uri": "https://localhost:8080/",
          "height": 483
        },
        "outputId": "07aaaf07-f6f6-43bf-c8ee-85ae8c2ae7a1",
        "id": "18qwxZsYVSGq"
      },
      "execution_count": 68,
      "outputs": [
        {
          "output_type": "stream",
          "name": "stdout",
          "text": [
            "Confusion matrix:\n"
          ]
        },
        {
          "output_type": "execute_result",
          "data": {
            "text/plain": [
              "Text(0, 0.5, 'Ground truth class')"
            ]
          },
          "metadata": {},
          "execution_count": 68
        },
        {
          "output_type": "display_data",
          "data": {
            "text/plain": [
              "<Figure size 640x480 with 1 Axes>"
            ],
            "image/png": "[encoded data removed]"
          },
          "metadata": {}
        }
      ]
    },
    {
      "cell_type": "code",
      "source": [
        "keras.utils.plot_model(base_net_v2)"
      ],
      "metadata": {
        "colab": {
          "base_uri": "https://localhost:8080/",
          "height": 466
        },
        "outputId": "a1f329a0-ad7a-4cc1-e246-5284ee1913d3",
        "id": "mcFjmI6mVSGr"
      },
      "execution_count": 69,
      "outputs": [
        {
          "output_type": "execute_result",
          "data": {
            "image/png": "[encoded data removed]",
            "text/plain": [
              "<IPython.core.display.Image object>"
            ]
          },
          "metadata": {},
          "execution_count": 69
        }
      ]
    },
    {
      "cell_type": "markdown",
      "source": [
        "# Model - Pretrained - BaseNet (V3)"
      ],
      "metadata": {
        "id": "bzou8frodCCg"
      }
    },
    {
      "cell_type": "code",
      "source": [
        "num_classes = 5"
      ],
      "metadata": {
        "id": "2nZR2q2wdCCj"
      },
      "execution_count": 70,
      "outputs": []
    },
    {
      "cell_type": "code",
      "source": [
        "# we set an early stopping\n",
        "callback = keras.callbacks.EarlyStopping(monitor='val_loss', patience=7)\n",
        "\n",
        "#we save only the best model\n",
        "checkpoint_filepath = 'gdrive/MyDrive/Project_DeepLearning/2_CNN_BaseNet_V3'\n",
        "mcp_save = tf.keras.callbacks.ModelCheckpoint(filepath=checkpoint_filepath, save_best_only=True, monitor='val_loss', mode='min')"
      ],
      "metadata": {
        "id": "9GK1ev3MdCCj"
      },
      "execution_count": 71,
      "outputs": []
    },
    {
      "cell_type": "code",
      "source": [
        "# Download Base Model weights\n",
        "base_net_v3 = keras.applications.MobileNetV2(input_shape=(224,224,3), weights='imagenet', include_top=False, pooling='avg')"
      ],
      "metadata": {
        "id": "eaOI5IlpdCCj"
      },
      "execution_count": 72,
      "outputs": []
    },
    {
      "cell_type": "code",
      "source": [
        "# Freezing the base model weights\n",
        "base_net_v3.trainable = True"
      ],
      "metadata": {
        "id": "fCMr283QdCCk"
      },
      "execution_count": 73,
      "outputs": []
    },
    {
      "cell_type": "markdown",
      "source": [
        "In v3 version trainable = True"
      ],
      "metadata": {
        "id": "yaifLGwadCCk"
      }
    },
    {
      "cell_type": "code",
      "source": [
        "# Explicit input layer\n",
        "inputs = keras.Input((224,224,3))\n",
        "#x = inputs\n",
        "x = data_augmentation(inputs)\n",
        "\n",
        "# Output of the base model\n",
        "x = base_net_v3(x)\n",
        "\n",
        "x = keras.layers.Dense(1024, activation='relu')(x)\n",
        "#x = keras.layers.Dense(256, activation='relu')(x)\n",
        "\n",
        "outputs = keras.layers.Dense(num_classes, activation=\"softmax\")(x)\n",
        "\n",
        "base_net_v3 = keras.Model(inputs, outputs)"
      ],
      "metadata": {
        "id": "QPg9f8YDdCCk"
      },
      "execution_count": 78,
      "outputs": []
    },
    {
      "cell_type": "code",
      "source": [
        "print(base_net_v3.summary())"
      ],
      "metadata": {
        "colab": {
          "base_uri": "https://localhost:8080/"
        },
        "outputId": "da415c57-6159-46af-819c-7b942dcdae6c",
        "id": "seAAjmsBdCCk"
      },
      "execution_count": 79,
      "outputs": [
        {
          "output_type": "stream",
          "name": "stdout",
          "text": [
            "Model: \"model_8\"\n",
            "_________________________________________________________________\n",
            " Layer (type)                Output Shape              Param #   \n",
            "=================================================================\n",
            " input_16 (InputLayer)       [(None, 224, 224, 3)]     0         \n",
            "                                                                 \n",
            " sequential (Sequential)     (None, 224, 224, 3)       7         \n",
            "                                                                 \n",
            " model_7 (Functional)        (None, 5)                 3833420   \n",
            "                                                                 \n",
            " dense_19 (Dense)            (None, 1024)              6144      \n",
            "                                                                 \n",
            " dense_20 (Dense)            (None, 5)                 5125      \n",
            "                                                                 \n",
            "=================================================================\n",
            "Total params: 3,844,689\n",
            "Trainable params: 3,810,570\n",
            "Non-trainable params: 34,119\n",
            "_________________________________________________________________\n",
            "None\n"
          ]
        }
      ]
    },
    {
      "cell_type": "markdown",
      "source": [
        "## Compile & Training - Base.Net Model"
      ],
      "metadata": {
        "id": "OKD-PYIhdCCl"
      }
    },
    {
      "cell_type": "code",
      "source": [
        "# Compile the model for training\n",
        "base_net_v3.compile(loss=keras.losses.categorical_crossentropy,\n",
        "            optimizer=keras.optimizers.RMSprop(learning_rate=0.001),\n",
        "            metrics=['accuracy'])"
      ],
      "metadata": {
        "id": "F-3jCdUsdCCl"
      },
      "execution_count": 81,
      "outputs": []
    },
    {
      "cell_type": "code",
      "source": [
        "# Model training\n",
        "history = base_net_v3.fit(train_dataset,\n",
        "          epochs=80,\n",
        "          validation_data=val_dataset,\n",
        "          callbacks=[callback, mcp_save]);"
      ],
      "metadata": {
        "colab": {
          "base_uri": "https://localhost:8080/"
        },
        "outputId": "253c0900-3634-4f1c-9b48-6e14f32d001e",
        "id": "cUdaY-PMdCCl"
      },
      "execution_count": 82,
      "outputs": [
        {
          "output_type": "stream",
          "name": "stdout",
          "text": [
            "Epoch 1/80\n",
            "23/23 [==============================] - ETA: 0s - loss: 1.4519 - accuracy: 0.3911"
          ]
        },
        {
          "output_type": "stream",
          "name": "stderr",
          "text": [
            "WARNING:absl:Found untraced functions such as _jit_compiled_convolution_op, _jit_compiled_convolution_op, _jit_compiled_convolution_op, _jit_compiled_convolution_op, _jit_compiled_convolution_op while saving (showing 5 of 52). These functions will not be directly callable after loading.\n"
          ]
        },
        {
          "output_type": "stream",
          "name": "stdout",
          "text": [
            "\b\b\b\b\b\b\b\b\b\b\b\b\b\b\b\b\b\b\b\b\b\b\b\b\b\b\b\b\b\b\b\b\b\b\b\b\b\b\b\b\b\b\b\b\b\b\b\b\b\b\b\b\b\b\b\b\b\b\b\b\b\b\b\b\b\b\b\b\b\b\b\b\b\b\b\b\b\b\b\b\b\b\r23/23 [==============================] - 88s 2s/step - loss: 1.4519 - accuracy: 0.3911 - val_loss: 1.8569 - val_accuracy: 0.2449\n",
            "Epoch 2/80\n",
            "23/23 [==============================] - ETA: 0s - loss: 1.1904 - accuracy: 0.4831"
          ]
        },
        {
          "output_type": "stream",
          "name": "stderr",
          "text": [
            "WARNING:absl:Found untraced functions such as _jit_compiled_convolution_op, _jit_compiled_convolution_op, _jit_compiled_convolution_op, _jit_compiled_convolution_op, _jit_compiled_convolution_op while saving (showing 5 of 52). These functions will not be directly callable after loading.\n"
          ]
        },
        {
          "output_type": "stream",
          "name": "stdout",
          "text": [
            "\b\b\b\b\b\b\b\b\b\b\b\b\b\b\b\b\b\b\b\b\b\b\b\b\b\b\b\b\b\b\b\b\b\b\b\b\b\b\b\b\b\b\b\b\b\b\b\b\b\b\b\b\b\b\b\b\b\b\b\b\b\b\b\b\b\b\b\b\b\b\b\b\b\b\b\b\b\b\b\b\b\b\r23/23 [==============================] - 50s 2s/step - loss: 1.1904 - accuracy: 0.4831 - val_loss: 1.8265 - val_accuracy: 0.3578\n",
            "Epoch 3/80\n",
            "23/23 [==============================] - 16s 617ms/step - loss: 1.0602 - accuracy: 0.5162 - val_loss: 2.0669 - val_accuracy: 0.3129\n",
            "Epoch 4/80\n",
            "23/23 [==============================] - 16s 636ms/step - loss: 0.9723 - accuracy: 0.5428 - val_loss: 2.4768 - val_accuracy: 0.2612\n",
            "Epoch 5/80\n",
            "23/23 [==============================] - 16s 618ms/step - loss: 0.9253 - accuracy: 0.5526 - val_loss: 2.8990 - val_accuracy: 0.1905\n",
            "Epoch 6/80\n",
            "23/23 [==============================] - 18s 635ms/step - loss: 0.9079 - accuracy: 0.5523 - val_loss: 3.0436 - val_accuracy: 0.2177\n",
            "Epoch 7/80\n",
            "23/23 [==============================] - 16s 608ms/step - loss: 0.8764 - accuracy: 0.5666 - val_loss: 3.2517 - val_accuracy: 0.1755\n",
            "Epoch 8/80\n",
            "23/23 [==============================] - 16s 616ms/step - loss: 0.8148 - accuracy: 0.5836 - val_loss: 3.5235 - val_accuracy: 0.1918\n",
            "Epoch 9/80\n",
            "23/23 [==============================] - 16s 616ms/step - loss: 0.8373 - accuracy: 0.5997 - val_loss: 3.5243 - val_accuracy: 0.1728\n"
          ]
        }
      ]
    },
    {
      "cell_type": "code",
      "source": [
        "# To load the best model\n",
        "base_net_v3.load_weights(checkpoint_filepath)"
      ],
      "metadata": {
        "colab": {
          "base_uri": "https://localhost:8080/"
        },
        "outputId": "6c403229-f990-4f1f-a2b7-cadcd89afd6e",
        "id": "_P3fEuzxdCCl"
      },
      "execution_count": 83,
      "outputs": [
        {
          "output_type": "execute_result",
          "data": {
            "text/plain": [
              "<tensorflow.python.checkpoint.checkpoint.CheckpointLoadStatus at 0x7f2f0033d990>"
            ]
          },
          "metadata": {},
          "execution_count": 83
        }
      ]
    },
    {
      "cell_type": "markdown",
      "source": [
        "## Validation of our Best Model"
      ],
      "metadata": {
        "id": "4MBPV03SdCCm"
      }
    },
    {
      "cell_type": "code",
      "source": [
        "# Visualization of the learning curves\n",
        "acc = (history.history['accuracy'])\n",
        "val_acc = (history.history['val_accuracy'])\n",
        "\n",
        "loss = (history.history['loss'])\n",
        "val_loss = (history.history['val_loss'])\n",
        "\n",
        "num_epochs = len(history.epoch)\n",
        "epochs_range = range(1, num_epochs + 1)\n",
        "\n",
        "plt.figure(figsize=(8, 8))\n",
        "plt.subplot(1, 2, 1)\n",
        "plt.plot(epochs_range, loss, label='Training Loss')\n",
        "plt.plot(epochs_range, val_loss, label='Validation Loss')\n",
        "plt.legend(loc='upper right')\n",
        "plt.title('Training and Validation Loss')\n",
        "\n",
        "plt.subplot(1, 2, 2)\n",
        "plt.plot(epochs_range, acc, label='Training Accuracy')\n",
        "plt.plot(epochs_range, val_acc, label='Validation Accuracy')\n",
        "plt.legend(loc='lower right')\n",
        "plt.title('Training and Validation Accuracy')\n",
        "\n",
        "plt.show()"
      ],
      "metadata": {
        "colab": {
          "base_uri": "https://localhost:8080/",
          "height": 699
        },
        "outputId": "2df2d59e-4139-428b-a062-b1e62b1e457a",
        "id": "eWqy2L1adCCm"
      },
      "execution_count": 84,
      "outputs": [
        {
          "output_type": "display_data",
          "data": {
            "text/plain": [
              "<Figure size 800x800 with 2 Axes>"
            ],
            "image/png": "[encoded data removed]"
          },
          "metadata": {}
        }
      ]
    },
    {
      "cell_type": "code",
      "source": [
        "# Evaluation Best Model\n",
        "score = base_net_v3.evaluate(val_dataset)\n",
        "print('Test loss:', score[0])\n",
        "print('Test accuracy:', score[1])"
      ],
      "metadata": {
        "colab": {
          "base_uri": "https://localhost:8080/"
        },
        "outputId": "8d0668ee-0367-4d59-a0a0-75d8f3e40929",
        "id": "Fvu2hL7JdCCm"
      },
      "execution_count": 85,
      "outputs": [
        {
          "output_type": "stream",
          "name": "stdout",
          "text": [
            "6/6 [==============================] - 2s 234ms/step - loss: 1.8265 - accuracy: 0.3578\n",
            "Test loss: 1.8265341520309448\n",
            "Test accuracy: 0.35782313346862793\n"
          ]
        }
      ]
    },
    {
      "cell_type": "code",
      "source": [
        "keras.utils.plot_model(base_net_v3)"
      ],
      "metadata": {
        "colab": {
          "base_uri": "https://localhost:8080/",
          "height": 466
        },
        "outputId": "118e55c9-9798-4caf-9936-9d099e13dc6c",
        "id": "8OQxPYttdCCo"
      },
      "execution_count": 86,
      "outputs": [
        {
          "output_type": "execute_result",
          "data": {
            "image/png": "[encoded data removed]",
            "text/plain": [
              "<IPython.core.display.Image object>"
            ]
          },
          "metadata": {},
          "execution_count": 86
        }
      ]
    }
  ],
  "metadata": {
    "accelerator": "GPU",
    "colab": {
      "provenance": []
    },
    "kernelspec": {
      "display_name": "Python 3",
      "name": "python3"
    },
    "language_info": {
      "name": "python"
    }
  },
  "nbformat": 4,
  "nbformat_minor": 0
}